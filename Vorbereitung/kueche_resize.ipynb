{
 "cells": [
  {
   "cell_type": "code",
   "execution_count": 1,
   "metadata": {},
   "outputs": [],
   "source": [
    "def get_Path(rootdir,root):\n",
    "    Path=[]\n",
    "    i=0\n",
    "    c=os.listdir(rootdir)\n",
    "\n",
    "    for i in range(len(c)):\n",
    "        currentPath=root+\"/\"\n",
    "        currentPath=currentPath+c[i]\n",
    "        Path.append(currentPath)\n",
    "    return Path\n"
   ]
  },
  {
   "cell_type": "code",
   "execution_count": 7,
   "metadata": {},
   "outputs": [],
   "source": [
    "import os\n",
    "import cv2\n",
    "\n",
    "Path = get_Path(r\"/Users/huiqi/Downloads/DKGS-master/daten/train/sauberKueche1\", \"/Users/huiqi/Downloads/DKGS-master/daten/train/sauberKueche1\")"
   ]
  },
  {
   "cell_type": "code",
   "execution_count": 10,
   "metadata": {},
   "outputs": [
    {
     "name": "stdout",
     "output_type": "stream",
     "text": [
      "/Users/huiqi/Downloads/COVID-19 Radiography Database/COVID-19/COVID-19(200).png\n"
     ]
    }
   ],
   "source": [
    "print(Path[1])"
   ]
  },
  {
   "cell_type": "code",
   "execution_count": 8,
   "metadata": {},
   "outputs": [],
   "source": [
    "for i in range(len(Path)):\n",
    "    img = cv2.imread(Path[i])\n",
    "    img= cv2.resize(img, (256,256))\n",
    "    cv2.imwrite(\"/Users/huiqi/Downloads/DKGS-master/daten/train/Kueche_256/1_{}.jpg\".format(i), img)"
   ]
  },
  {
   "cell_type": "code",
   "execution_count": 13,
   "metadata": {},
   "outputs": [
    {
     "name": "stdout",
     "output_type": "stream",
     "text": [
      "(1024, 1024, 3)\n"
     ]
    }
   ],
   "source": [
    "\n",
    "img=cv2.imread(Path[33])\n",
    "print(img.shape)"
   ]
  },
  {
   "cell_type": "code",
   "execution_count": null,
   "metadata": {},
   "outputs": [],
   "source": []
  }
 ],
 "metadata": {
  "kernelspec": {
   "display_name": "Python 3",
   "language": "python",
   "name": "python3"
  },
  "language_info": {
   "codemirror_mode": {
    "name": "ipython",
    "version": 3
   },
   "file_extension": ".py",
   "mimetype": "text/x-python",
   "name": "python",
   "nbconvert_exporter": "python",
   "pygments_lexer": "ipython3",
   "version": "3.7.3"
  }
 },
 "nbformat": 4,
 "nbformat_minor": 2
}
