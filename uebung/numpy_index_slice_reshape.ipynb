{
 "cells": [
  {
   "cell_type": "code",
   "execution_count": 1,
   "metadata": {},
   "outputs": [],
   "source": [
    "# uebung numpy: Index, Slice and Reshape\n",
    "# convert list to array\n",
    "from numpy import array\n",
    "date = [1,2,3,4,5]"
   ]
  },
  {
   "cell_type": "code",
   "execution_count": 2,
   "metadata": {},
   "outputs": [
    {
     "name": "stdout",
     "output_type": "stream",
     "text": [
      "<class 'list'>\n"
     ]
    }
   ],
   "source": [
    "print(type(date))"
   ]
  },
  {
   "cell_type": "code",
   "execution_count": 3,
   "metadata": {},
   "outputs": [
    {
     "name": "stdout",
     "output_type": "stream",
     "text": [
      "[1 2 3 4 5]\n",
      "<class 'numpy.ndarray'>\n"
     ]
    }
   ],
   "source": [
    "date = array(date)\n",
    "print(date)\n",
    "print(type(date))"
   ]
  },
  {
   "cell_type": "code",
   "execution_count": 4,
   "metadata": {},
   "outputs": [
    {
     "name": "stdout",
     "output_type": "stream",
     "text": [
      "[[1, 2, 3], [4, 5, 6]]\n",
      "<class 'list'>\n",
      "[[1 2 3]\n",
      " [4 5 6]]\n",
      "<class 'numpy.ndarray'>\n"
     ]
    }
   ],
   "source": [
    "data = [[1,2,3],[4,5,6]]\n",
    "print(data)\n",
    "print(type(data))\n",
    "data = array(data)\n",
    "print(data)\n",
    "print(type(data))"
   ]
  },
  {
   "cell_type": "code",
   "execution_count": 5,
   "metadata": {},
   "outputs": [
    {
     "name": "stdout",
     "output_type": "stream",
     "text": [
      "1\n"
     ]
    }
   ],
   "source": [
    "data = array([1,2,3,4])\n",
    "print(data[0])"
   ]
  },
  {
   "cell_type": "code",
   "execution_count": 10,
   "metadata": {},
   "outputs": [
    {
     "name": "stdout",
     "output_type": "stream",
     "text": [
      "4\n",
      "4\n",
      "[1 2 3 4]\n",
      "[1 2 3 4]\n",
      "[1 2 3 4]\n"
     ]
    }
   ],
   "source": [
    "data = array([[1,2,3,4],[5,6,7,8]])\n",
    "print(data[0,3])\n",
    "print(data[0][3])\n",
    "print(data[0,])\n",
    "print(data[0,:])\n",
    "print(data[0][:])"
   ]
  },
  {
   "cell_type": "code",
   "execution_count": 14,
   "metadata": {},
   "outputs": [
    {
     "name": "stdout",
     "output_type": "stream",
     "text": [
      "[[1 2 3 4]\n",
      " [5 6 7 8]]\n",
      "[5 6 7 8]\n",
      "[2 6]\n"
     ]
    }
   ],
   "source": [
    "print(data[:])\n",
    "print(data[:][1])\n",
    "print(data[:,1])"
   ]
  },
  {
   "cell_type": "code",
   "execution_count": 16,
   "metadata": {},
   "outputs": [
    {
     "name": "stdout",
     "output_type": "stream",
     "text": [
      "[[1 2 3]\n",
      " [5 6 7]\n",
      " [0 0 0]]\n",
      "[4 8 0]\n",
      "[[1 2 3 4]\n",
      " [5 6 7 8]]\n",
      "[[0 0 0 0]]\n"
     ]
    }
   ],
   "source": [
    "data = array([[1,2,3,4],[5,6,7,8],[0,0,0,0]])\n",
    "x,y = data[:,:-1],data[:,-1]\n",
    "print(x)\n",
    "print(y)\n",
    "x1, y1 = data[:2,:],data[2:,:]\n",
    "print(x1)\n",
    "print(y1)"
   ]
  },
  {
   "cell_type": "code",
   "execution_count": 19,
   "metadata": {},
   "outputs": [
    {
     "name": "stdout",
     "output_type": "stream",
     "text": [
      "(4,)\n",
      "<class 'tuple'>\n"
     ]
    }
   ],
   "source": [
    "# shape\n",
    "data = array([1,2,3,4])\n",
    "print(data.shape)\n",
    "print(type(data.shape))"
   ]
  },
  {
   "cell_type": "code",
   "execution_count": 2,
   "metadata": {},
   "outputs": [
    {
     "name": "stdout",
     "output_type": "stream",
     "text": [
      "[[ 1  2  3  4]\n",
      " [ 5  6  7  8]\n",
      " [ 9 10 11 12]]\n",
      "(3, 4)\n",
      "[[ 1  2  3  4  5  6  7  8  9 10 11 12]]\n",
      "[[[ 1  2]\n",
      "  [ 3  4]]\n",
      "\n",
      " [[ 5  6]\n",
      "  [ 7  8]]\n",
      "\n",
      " [[ 9 10]\n",
      "  [11 12]]]\n",
      "1\n",
      "2\n"
     ]
    }
   ],
   "source": [
    "data = array([[1,2,3,4],[5,6,7,8],[9,10,11,12]])\n",
    "print(data)\n",
    "print(data.shape)\n",
    "data1 = data.reshape(1,-1)#缺省用-1代替\n",
    "print(data1)\n",
    "#data2 = data.reshape(8,1)\n",
    "#print(data2)\n",
    "data3 = data.reshape(data.shape[0],data.shape[1]//2,2)\n",
    "#层 长 宽 \n",
    "print(data3)\n",
    "print(data3[0,0,0])\n",
    "print(data3[0,0,1])"
   ]
  }
 ],
 "metadata": {
  "kernelspec": {
   "display_name": "Python 3",
   "language": "python",
   "name": "python3"
  },
  "language_info": {
   "codemirror_mode": {
    "name": "ipython",
    "version": 3
   },
   "file_extension": ".py",
   "mimetype": "text/x-python",
   "name": "python",
   "nbconvert_exporter": "python",
   "pygments_lexer": "ipython3",
   "version": "3.7.4"
  }
 },
 "nbformat": 4,
 "nbformat_minor": 4
}
